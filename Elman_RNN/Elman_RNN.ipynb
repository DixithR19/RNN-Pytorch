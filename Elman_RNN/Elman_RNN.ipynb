{
 "cells": [
  {
   "cell_type": "markdown",
   "metadata": {},
   "source": [
    "## Sine Wave Prediction using Elman RNN"
   ]
  },
  {
   "cell_type": "code",
   "execution_count": 42,
   "metadata": {
    "collapsed": true
   },
   "outputs": [],
   "source": [
    "import torch\n",
    "from torch.autograd import Variable\n",
    "import numpy as np\n",
    "import pylab as pl\n",
    "import torch.nn.init as init"
   ]
  },
  {
   "cell_type": "code",
   "execution_count": 43,
   "metadata": {
    "collapsed": true
   },
   "outputs": [],
   "source": [
    "torch.manual_seed(1) #Seed initialisation for random number generator\n",
    "\n",
    "dtype = torch.FloatTensor\n",
    "\n",
    "#Input_size = 7(6 context neurons and 1 input neuron)\n",
    "input_size, hidden_size, output_size = 7, 6, 1\n",
    "epochs = 300\n",
    "seq_length = 20\n",
    "lr = 0.1"
   ]
  },
  {
   "cell_type": "markdown",
   "metadata": {},
   "source": [
    "### Random Sine wave input"
   ]
  },
  {
   "cell_type": "code",
   "execution_count": 44,
   "metadata": {
    "collapsed": true
   },
   "outputs": [],
   "source": [
    "data_time_steps = np.linspace(2, 10, seq_length + 1)\n",
    "data = np.sin(data_time_steps)\n",
    "data.resize((seq_length + 1, 1))\n",
    "\n",
    "x = Variable(torch.Tensor(data[:-1]).type(dtype), requires_grad=False)\n",
    "y = Variable(torch.Tensor(data[1:]).type(dtype), requires_grad=False)"
   ]
  },
  {
   "cell_type": "markdown",
   "metadata": {},
   "source": [
    "### Weight initialisation"
   ]
  },
  {
   "cell_type": "code",
   "execution_count": 45,
   "metadata": {},
   "outputs": [],
   "source": [
    "w1 = torch.FloatTensor(input_size, hidden_size).type(dtype)\n",
    "init.normal_(w1, 0.0, 0.4)\n",
    "w1 =  Variable(w1, requires_grad=True)\n",
    "w2 = torch.FloatTensor(hidden_size, output_size).type(dtype)\n",
    "init.normal_(w2, 0.0, 0.3)\n",
    "w2 = Variable(w2, requires_grad=True)"
   ]
  },
  {
   "cell_type": "markdown",
   "metadata": {},
   "source": [
    "### Elman RNN"
   ]
  },
  {
   "cell_type": "code",
   "execution_count": 46,
   "metadata": {
    "collapsed": true
   },
   "outputs": [],
   "source": [
    "def forward(input, context_state, w1, w2):\n",
    "  xh = torch.cat((input, context_state), 1)\n",
    "  context_state = torch.tanh(xh.mm(w1))\n",
    "  out = context_state.mm(w2)\n",
    "  return  (out, context_state)"
   ]
  },
  {
   "cell_type": "markdown",
   "metadata": {},
   "source": [
    "### Training"
   ]
  },
  {
   "cell_type": "code",
   "execution_count": 47,
   "metadata": {},
   "outputs": [
    {
     "name": "stderr",
     "output_type": "stream",
     "text": [
      "/home/dixith/.local/lib/python2.7/site-packages/ipykernel_launcher.py:17: UserWarning: invalid index of a 0-dim tensor. This will be an error in PyTorch 0.5. Use tensor.item() to convert a 0-dim tensor to a Python number\n"
     ]
    },
    {
     "name": "stdout",
     "output_type": "stream",
     "text": [
      "Epoch: 0 loss 2.01560926437\n",
      "Epoch: 10 loss 0.302462786436\n",
      "Epoch: 20 loss 0.268351882696\n",
      "Epoch: 30 loss 0.244405955076\n",
      "Epoch: 40 loss 0.226059556007\n",
      "Epoch: 50 loss 0.214263424277\n",
      "Epoch: 60 loss 0.207835316658\n",
      "Epoch: 70 loss 0.205058798194\n",
      "Epoch: 80 loss 0.204210400581\n",
      "Epoch: 90 loss 0.203713059425\n",
      "Epoch: 100 loss 0.202297583222\n",
      "Epoch: 110 loss 0.199190154672\n",
      "Epoch: 120 loss 0.194156467915\n",
      "Epoch: 130 loss 0.187336757779\n",
      "Epoch: 140 loss 0.178972601891\n",
      "Epoch: 150 loss 0.169212684035\n",
      "Epoch: 160 loss 0.158103510737\n",
      "Epoch: 170 loss 0.145718619227\n",
      "Epoch: 180 loss 0.132336109877\n",
      "Epoch: 190 loss 0.118551127613\n",
      "Epoch: 200 loss 0.105246573687\n",
      "Epoch: 210 loss 0.0934070050716\n",
      "Epoch: 220 loss 0.0837709382176\n",
      "Epoch: 230 loss 0.0765102505684\n",
      "Epoch: 240 loss 0.0712187066674\n",
      "Epoch: 250 loss 0.0672497823834\n",
      "Epoch: 260 loss 0.0640556514263\n",
      "Epoch: 270 loss 0.0613010264933\n",
      "Epoch: 280 loss 0.0588191784918\n",
      "Epoch: 290 loss 0.0565444529057\n"
     ]
    }
   ],
   "source": [
    "for i in range(epochs):\n",
    "  total_loss = 0\n",
    "  context_state = Variable(torch.zeros((1, hidden_size)).type(dtype), requires_grad=True)\n",
    "  for j in range(x.size(0)):\n",
    "    input = x[j:(j+1)]\n",
    "    target = y[j:(j+1)]\n",
    "    (pred, context_state) = forward(input, context_state, w1, w2)\n",
    "    loss = (pred - target).pow(2).sum()/2\n",
    "    total_loss += loss\n",
    "    loss.backward()\n",
    "    w1.data -= lr * w1.grad.data\n",
    "    w2.data -= lr * w2.grad.data\n",
    "    w1.grad.data.zero_()\n",
    "    w2.grad.data.zero_()\n",
    "    context_state = Variable(context_state.data)\n",
    "  if i % 10 == 0:\n",
    "     print(\"Epoch: {} loss {}\".format(i, total_loss.data[0]))"
   ]
  },
  {
   "cell_type": "markdown",
   "metadata": {},
   "source": [
    "### Prediction"
   ]
  },
  {
   "cell_type": "code",
   "execution_count": 48,
   "metadata": {
    "collapsed": true
   },
   "outputs": [],
   "source": [
    "context_state = Variable(torch.zeros((1, hidden_size)).type(dtype), requires_grad=False)\n",
    "predictions = []\n",
    "\n",
    "for i in range(x.size(0)):\n",
    "  input = x[i:i+1]\n",
    "  (pred, context_state) = forward(input, context_state, w1, w2)\n",
    "  context_state = context_state\n",
    "  predictions.append(pred.data.numpy().ravel()[0])"
   ]
  },
  {
   "cell_type": "code",
   "execution_count": 49,
   "metadata": {},
   "outputs": [
    {
     "data": {
      "image/png": "[encoded data removed]",
      "text/plain": [
       "<matplotlib.figure.Figure at 0x7fd704fe8250>"
      ]
     },
     "metadata": {},
     "output_type": "display_data"
    }
   ],
   "source": [
    "pl.scatter(data_time_steps[:-1], x.data.numpy(), s=90, label=\"Actual\")\n",
    "pl.scatter(data_time_steps[1:], predictions, s=50,c='r',label=\"Predicted\")\n",
    "pl.legend()\n",
    "pl.show()"
   ]
  }
 ],
 "metadata": {
  "kernelspec": {
   "display_name": "Python 2",
   "language": "python",
   "name": "python2"
  },
  "language_info": {
   "codemirror_mode": {
    "name": "ipython",
    "version": 2
   },
   "file_extension": ".py",
   "mimetype": "text/x-python",
   "name": "python",
   "nbconvert_exporter": "python",
   "pygments_lexer": "ipython2",
   "version": "2.7.12"
  }
 },
 "nbformat": 4,
 "nbformat_minor": 2
}
